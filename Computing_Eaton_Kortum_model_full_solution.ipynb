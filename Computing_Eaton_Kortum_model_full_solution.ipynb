{
  "nbformat": 4,
  "nbformat_minor": 0,
  "metadata": {
    "colab": {
      "provenance": [],
      "toc_visible": true,
      "authorship_tag": "ABX9TyPIjDmXIe4H0VuYX6RK7sU5",
      "include_colab_link": true
    },
    "kernelspec": {
      "name": "python3",
      "display_name": "Python 3"
    },
    "language_info": {
      "name": "python"
    }
  },
  "cells": [
    {
      "cell_type": "markdown",
      "metadata": {
        "id": "view-in-github",
        "colab_type": "text"
      },
      "source": [
        "<a href=\"https://colab.research.google.com/github/yutawatabe/quantiative_trade_lecture/blob/main/Computing_Eaton_Kortum_model_full_solution.ipynb\" target=\"_parent\"><img src=\"https://colab.research.google.com/assets/colab-badge.svg\" alt=\"Open In Colab\"/></a>"
      ]
    },
    {
      "cell_type": "markdown",
      "source": [
        "# **パラメーターから均衡へ**\n",
        "\n",
        "シミュレートした適当なパラメーターから均衡の計算を行う。"
      ],
      "metadata": {
        "id": "XV5vNHAwd6a7"
      }
    },
    {
      "cell_type": "code",
      "source": [
        "# numpy, mathをインポート\n",
        "import numpy as np # 行列計算のライブラリ\n",
        "from math import gamma # 価格指数のため"
      ],
      "metadata": {
        "id": "7WLt4RIYIuxU"
      },
      "execution_count": 1,
      "outputs": []
    },
    {
      "cell_type": "markdown",
      "source": [
        "## まずパラメーターを設定する。"
      ],
      "metadata": {
        "id": "EmqqODmOIoZ3"
      }
    },
    {
      "cell_type": "code",
      "execution_count": 2,
      "metadata": {
        "id": "ejM5utGkF5nn"
      },
      "outputs": [],
      "source": [
        "N = 3 # 国の数\n",
        "theta = 4 # 貿易弾力性のパラメーター\n",
        "sigma = 3 # 代替の弾力性のパラメーター"
      ]
    },
    {
      "cell_type": "code",
      "source": [
        "T = np.array([1., 1., 1.]) # 技術パラメーター\n",
        "print(T)\n",
        "print(T.shape)"
      ],
      "metadata": {
        "colab": {
          "base_uri": "https://localhost:8080/"
        },
        "id": "G2_TRcxWH1r-",
        "outputId": "512d700c-19f2-4e0e-c2b5-d8f3d6ef6be9"
      },
      "execution_count": 3,
      "outputs": [
        {
          "output_type": "stream",
          "name": "stdout",
          "text": [
            "[1. 1. 1.]\n",
            "(3,)\n"
          ]
        }
      ]
    },
    {
      "cell_type": "code",
      "source": [
        "L = np.array([1,1.5,1.5]) # 人口\n",
        "print(L)\n",
        "print(L.shape)"
      ],
      "metadata": {
        "colab": {
          "base_uri": "https://localhost:8080/"
        },
        "id": "8yR40FyqH9oU",
        "outputId": "d0040621-4e48-4419-95ec-e7dd36a4a538"
      },
      "execution_count": 4,
      "outputs": [
        {
          "output_type": "stream",
          "name": "stdout",
          "text": [
            "[1.  1.5 1.5]\n",
            "(3,)\n"
          ]
        }
      ]
    },
    {
      "cell_type": "markdown",
      "source": [
        "まず $\\boldsymbol{\\tau}$のすべての要素を1.5として、そのあとにループを使用して国内貿易費用を1とする。"
      ],
      "metadata": {
        "id": "XLpJmOpfjucF"
      }
    },
    {
      "cell_type": "code",
      "source": [
        "tau = np.ones((N,N)) * 1.5 # 貿易費用\n",
        "print(tau)\n",
        "print(tau.shape)\n",
        "for OR in np.ndindex((N)):\n",
        "  print(OR)\n",
        "  tau[OR,OR] = 1 #国内貿易費用は1\n",
        "\n",
        "print(tau)"
      ],
      "metadata": {
        "colab": {
          "base_uri": "https://localhost:8080/"
        },
        "id": "p_yih9k-H6dC",
        "outputId": "5c5456f2-152c-4d8e-922b-309f9440cdb0"
      },
      "execution_count": 5,
      "outputs": [
        {
          "output_type": "stream",
          "name": "stdout",
          "text": [
            "[[1.5 1.5 1.5]\n",
            " [1.5 1.5 1.5]\n",
            " [1.5 1.5 1.5]]\n",
            "(3, 3)\n",
            "(0,)\n",
            "(1,)\n",
            "(2,)\n",
            "[[1.  1.5 1.5]\n",
            " [1.5 1.  1.5]\n",
            " [1.5 1.5 1. ]]\n"
          ]
        }
      ]
    },
    {
      "cell_type": "markdown",
      "source": [
        "**仮置きした賃金での均衡の確認**\n",
        "\n",
        "仮に国の賃金が同一として、果たして労働市場（財市場）が均衡するかを見ていく。候補として全ての国 $i$ に対して\n",
        "$$ w_i = 1 $$\n",
        "を考えてみる。\n"
      ],
      "metadata": {
        "id": "9-l0QARYeRv4"
      }
    },
    {
      "cell_type": "code",
      "source": [
        "w = np.ones((N))\n",
        "print(w)"
      ],
      "metadata": {
        "colab": {
          "base_uri": "https://localhost:8080/"
        },
        "id": "0YhFoXwrgQ5z",
        "outputId": "7647c3cd-3359-4b12-cee6-fcde96a32670"
      },
      "execution_count": 6,
      "outputs": [
        {
          "output_type": "stream",
          "name": "stdout",
          "text": [
            "[1. 1. 1.]\n"
          ]
        }
      ]
    },
    {
      "cell_type": "markdown",
      "source": [
        "まず総所得（消費）を計算しておく。$X_n$を総消費とする。この経済では労働のみが生産要素なので、\n",
        "$$X_n = w_n L_n$$\n",
        "となる。"
      ],
      "metadata": {
        "id": "MGliF4mtmZY-"
      }
    },
    {
      "cell_type": "code",
      "source": [
        "Xn = w * L\n",
        "print(Xn)"
      ],
      "metadata": {
        "colab": {
          "base_uri": "https://localhost:8080/"
        },
        "id": "S0_mp0ZUmyr6",
        "outputId": "8214897b-0b4d-4adf-a543-11c5c26f0115"
      },
      "execution_count": 7,
      "outputs": [
        {
          "output_type": "stream",
          "name": "stdout",
          "text": [
            "[1.  1.5 1.5]\n"
          ]
        }
      ]
    },
    {
      "cell_type": "markdown",
      "source": [
        "まず投入費用$c_{in}$を計算する\n",
        "$$ c_{in} = w_i \\tau_{in} $$"
      ],
      "metadata": {
        "id": "JM3mPSm4gHG1"
      }
    },
    {
      "cell_type": "code",
      "source": [
        "c = np.zeros((N,N)) # i国からn国までの投入費用（を入れるための箱）\n",
        "for OR,DE in np.ndindex((N,N)):\n",
        "  print(OR)\n",
        "  print(DE)\n",
        "  c[OR,DE] = w[OR] * tau[OR,DE]\n",
        "  print(c[OR,DE])\n"
      ],
      "metadata": {
        "colab": {
          "base_uri": "https://localhost:8080/"
        },
        "id": "SW3lqOhWJYR8",
        "outputId": "1401e083-d255-4b25-e16e-52938a6bdc25"
      },
      "execution_count": 8,
      "outputs": [
        {
          "output_type": "stream",
          "name": "stdout",
          "text": [
            "0\n",
            "0\n",
            "1.0\n",
            "0\n",
            "1\n",
            "1.5\n",
            "0\n",
            "2\n",
            "1.5\n",
            "1\n",
            "0\n",
            "1.5\n",
            "1\n",
            "1\n",
            "1.0\n",
            "1\n",
            "2\n",
            "1.5\n",
            "2\n",
            "0\n",
            "1.5\n",
            "2\n",
            "1\n",
            "1.5\n",
            "2\n",
            "2\n",
            "1.0\n"
          ]
        }
      ]
    },
    {
      "cell_type": "markdown",
      "source": [
        "それを使って輸入シェアを計算する。\n",
        "$$ \\pi_{in} = \\frac{ T_{i} c_{in}^{-\\theta}}{\\sum_{k=1} T_{k} c_{ki}^{-\\theta} }   $$\n",
        "コーディングの際には以下のような表記を用いる。\n",
        "$$ \\pi_{in} = \\frac{\\pi_{in,num}}{\\Phi_{n}} $$\n",
        "ここでは\n",
        "$$ \\pi_{in,num} = T_{i} c_{in}^{-\\theta} $$\n",
        "であり、\n",
        "$$ \\Phi_{n} = \\sum_{k=1}^N T_{i} c_{kn}^{-\\theta} $$\n",
        "となっている。\n"
      ],
      "metadata": {
        "id": "RyD6me-XgB9U"
      }
    },
    {
      "cell_type": "code",
      "source": [
        "pi = np.zeros((N,N)) # 輸入シェア（n国の総消費のうち、i国の財が何割を占めるか）\n",
        "pi_num = np.zeros((N,N)) # 輸入シェアの分子部分\n",
        "Phi = np.zeros((N)) # 輸入シェアの分母部分\n",
        "\n",
        "for OR,DE in np.ndindex((N,N)):\n",
        "  pi_num[OR,DE] = T[OR] * (w[OR] * tau[OR,DE]) ** (-theta)\n",
        "  Phi[DE] += pi_num[OR,DE] # pi_den[DE] = pi_den[DE] + pi_num[OR,DE]\n",
        "\n",
        "for OR,DE in np.ndindex((N,N)):\n",
        "  pi[OR,DE] = pi_num[OR,DE] / Phi[DE]\n",
        "\n",
        "print(pi)"
      ],
      "metadata": {
        "colab": {
          "base_uri": "https://localhost:8080/"
        },
        "id": "vG2HtS4SW79e",
        "outputId": "4e2eea1f-b619-4bbd-edc3-9568ff4efce6"
      },
      "execution_count": 9,
      "outputs": [
        {
          "output_type": "stream",
          "name": "stdout",
          "text": [
            "[[0.71681416 0.14159292 0.14159292]\n",
            " [0.14159292 0.71681416 0.14159292]\n",
            " [0.14159292 0.14159292 0.71681416]]\n"
          ]
        }
      ]
    },
    {
      "cell_type": "markdown",
      "source": [
        "ここで、$\\pi_{in}$の定義上、$ \\sum_{i=1}^N \\pi_{in} = 1 $ が成立するはず。\n",
        "また仮置きした賃金が同一であり、国の技術、貿易費用が対象のため、$\\boldsymbol{\\pi}$も対称になる。それを上で確認する。\n",
        "\n",
        "ここから価格指数を計算しておく（あとで厚生の評価に使う）\n",
        "$$ P_{n} = \\Gamma \\left( \\frac{\\theta + \\sigma -1}{\\theta} \\right) \\Phi_{n}^{-1/\\theta} $$"
      ],
      "metadata": {
        "id": "6DIAFEAuhoCF"
      }
    },
    {
      "cell_type": "code",
      "source": [
        "P = gamma((theta + sigma - 1) / theta) **(1/(1-sigma)) * Phi ** (-1/theta)\n",
        "print(P)"
      ],
      "metadata": {
        "colab": {
          "base_uri": "https://localhost:8080/"
        },
        "id": "AFjgvl7WGFPo",
        "outputId": "5f6708d9-669b-4415-ab7c-03757b8ca28f"
      },
      "execution_count": 10,
      "outputs": [
        {
          "output_type": "stream",
          "name": "stdout",
          "text": [
            "[0.97741539 0.97741539 0.97741539]\n"
          ]
        }
      ]
    },
    {
      "cell_type": "markdown",
      "source": [
        "$i$ 国から $n$ 国への輸出は、輸入シェアに輸入国の総消費をかけたものになる。\n",
        "$$X_{in} = \\pi_{in} X_n $$"
      ],
      "metadata": {
        "id": "AlrFw4rzmRgb"
      }
    },
    {
      "cell_type": "code",
      "source": [
        "X = np.zeros((N,N))\n",
        "for OR,DE in np.ndindex((N,N)):\n",
        "  X[OR,DE] = pi[OR,DE] * Xn[DE]\n",
        "\n",
        "print(X)"
      ],
      "metadata": {
        "colab": {
          "base_uri": "https://localhost:8080/"
        },
        "id": "6zVtLZQKmUM3",
        "outputId": "474a1774-a15c-44ae-e14c-91992dfa091c"
      },
      "execution_count": 11,
      "outputs": [
        {
          "output_type": "stream",
          "name": "stdout",
          "text": [
            "[[0.71681416 0.21238938 0.21238938]\n",
            " [0.14159292 1.07522124 0.21238938]\n",
            " [0.14159292 0.21238938 1.07522124]]\n"
          ]
        }
      ]
    },
    {
      "cell_type": "markdown",
      "source": [
        "ここでは$\\boldsymbol{\\pi}$のように足して1にならず、対称でもない。これは需要規模が国によって違うため（消費者の数が違う）。"
      ],
      "metadata": {
        "id": "LPlMHGkiofd8"
      }
    },
    {
      "cell_type": "markdown",
      "source": [
        "**労働市場の均衡の確認**\n",
        "\n",
        "まず労働供給は固定であり、$\\boldsymbol{L} = \\boldsymbol{L}_S$になる。"
      ],
      "metadata": {
        "id": "xOgPAzm8kNSO"
      }
    },
    {
      "cell_type": "code",
      "source": [
        "L_S = L\n",
        "print(L)"
      ],
      "metadata": {
        "colab": {
          "base_uri": "https://localhost:8080/"
        },
        "id": "UrgkduSlj9mL",
        "outputId": "b2706e50-817a-4d52-d3d5-efa306b5f9c1"
      },
      "execution_count": 12,
      "outputs": [
        {
          "output_type": "stream",
          "name": "stdout",
          "text": [
            "[1.  1.5 1.5]\n"
          ]
        }
      ]
    },
    {
      "cell_type": "markdown",
      "source": [
        "労働需要は、総売上を賃金で割ると導ける。数学的には\n",
        "$$ L_{i,D} = \\frac{ X_{in}}{w_i} $$\n",
        "が労働需要になる。これを計算して、労働の超過需要をZを求めてあげる。\n",
        "$$ Z_{i} = L_{i,D} - L_i $$"
      ],
      "metadata": {
        "id": "a0Y4xdSmk2zj"
      }
    },
    {
      "cell_type": "code",
      "source": [
        "L_D = np.zeros((N))\n",
        "for OR,DE in np.ndindex((N,N)):\n",
        "  L_D[OR] += X[OR,DE] / w[OR] # L_D[OR] = L_D[OR] + X[OR,DE] / w[OR]\n",
        "\n",
        "Z = L_D - L_S"
      ],
      "metadata": {
        "id": "GcopTU0Vnuej"
      },
      "execution_count": 14,
      "outputs": []
    },
    {
      "cell_type": "markdown",
      "source": [
        "この賃金が労働市場を均衡させる賃金なら、Zはどの国でも0になるはず。"
      ],
      "metadata": {
        "id": "gfBC3Jt8oKbd"
      }
    },
    {
      "cell_type": "code",
      "source": [
        "print(Z)"
      ],
      "metadata": {
        "colab": {
          "base_uri": "https://localhost:8080/"
        },
        "id": "9qAi915eoRYT",
        "outputId": "a8aa0ac8-ab2d-4cd1-81c1-48df920def62"
      },
      "execution_count": 15,
      "outputs": [
        {
          "output_type": "stream",
          "name": "stdout",
          "text": [
            "[ 0.14159292 -0.07079646 -0.07079646]\n"
          ]
        }
      ]
    },
    {
      "cell_type": "markdown",
      "source": [
        "ならない、ということはこの賃金は均衡賃金ではない！\n",
        "次の賃金候補を探してあげたい。今の賃金を $w^0_i$とし（最初のinterationの賃金）、アップデート方法を考える。ここでは超過需要を用いたアップデータ方を用いる。"
      ],
      "metadata": {
        "id": "Tm0jzSifoROG"
      }
    },
    {
      "cell_type": "code",
      "source": [
        "psi = 0.1 # 収束のスピードをコントロールするパラメーター\n",
        "\n",
        "w_new = w * (1 + psi * (Z / L) )"
      ],
      "metadata": {
        "id": "9wM767WopTRh"
      },
      "execution_count": 16,
      "outputs": []
    },
    {
      "cell_type": "markdown",
      "source": [
        "ここで新しい$w$と古い$w$を比較する。ちゃんと超過需要が発生していた国において賃金が高くなっているか確認できるはず。"
      ],
      "metadata": {
        "id": "oFLxf4KuoJhJ"
      }
    },
    {
      "cell_type": "code",
      "source": [
        "print(Z)\n",
        "print(w_new - w)"
      ],
      "metadata": {
        "colab": {
          "base_uri": "https://localhost:8080/"
        },
        "id": "d8IMJznXqFex",
        "outputId": "cb9ab3ae-349b-4ce6-ba8e-85b1d7e56dba"
      },
      "execution_count": 17,
      "outputs": [
        {
          "output_type": "stream",
          "name": "stdout",
          "text": [
            "[ 0.14159292 -0.07079646 -0.07079646]\n",
            "[ 0.01415929 -0.00471976 -0.00471976]\n"
          ]
        }
      ]
    },
    {
      "cell_type": "markdown",
      "source": [
        "均衡賃金は基準化なしに一意にはきまらない。最後に世界のGDPが1になるように基準化しておく。"
      ],
      "metadata": {
        "id": "TsTtoAz5qPyC"
      }
    },
    {
      "cell_type": "code",
      "source": [
        "wgdp = np.sum(w_new * L)\n",
        "print(wgdp)\n",
        "w_new = w_new / wgdp\n",
        "print(w_new)"
      ],
      "metadata": {
        "colab": {
          "base_uri": "https://localhost:8080/"
        },
        "id": "Jiz2aVTgqj-k",
        "outputId": "fcc1134d-9139-457e-b694-d9384eb9dd00"
      },
      "execution_count": 18,
      "outputs": [
        {
          "output_type": "stream",
          "name": "stdout",
          "text": [
            "4.0\n",
            "[0.25353982 0.24882006 0.24882006]\n"
          ]
        }
      ]
    },
    {
      "cell_type": "markdown",
      "source": [
        "いままでの流れをまとめると\n",
        "\n",
        "\n",
        "1.   パラメーターを設定する\n",
        "2.   仮定した賃金をもとに、輸入シェア、貿易額を計算する\n",
        "3.   貿易額を用いて、労働市場の均衡をチェックする\n",
        "4.   労働の超過需要を用いて、仮置きした賃金を更新していく。\n",
        "\n",
        "この2から4を**関数**にまとめる。\n"
      ],
      "metadata": {
        "id": "msJAEo7-q2i_"
      }
    },
    {
      "cell_type": "code",
      "source": [
        "def updatewage(w,theta,sigma,N,L,T,tau,psi):\n",
        "  Xn = w * L\n",
        "\n",
        "  c = np.zeros((N,N)) # i国からn国までの投入費用（を入れるための箱）\n",
        "  for OR,DE in np.ndindex((N,N)):\n",
        "    c[OR,DE] = w[OR] * tau[OR,DE]\n",
        "\n",
        "  pi = np.zeros((N,N)) # 輸入シェア（n国の総消費のうち、i国の財が何割を占めるか）\n",
        "  pi_num = np.zeros((N,N)) # 輸入シェアの分子部分\n",
        "  Phi = np.zeros((N)) # 輸入シェアの分母部分\n",
        "\n",
        "  for OR,DE in np.ndindex((N,N)):\n",
        "    pi_num[OR,DE] = T[OR] * (w[OR] * tau[OR,DE]) ** (-theta)\n",
        "    Phi[DE] += pi_num[OR,DE] # Phi[DE] = Phi[DE] + pi_num[OR,DE]\n",
        "\n",
        "  for OR,DE in np.ndindex((N,N)):\n",
        "    pi[OR,DE] = pi_num[OR,DE] / Phi[DE]\n",
        "\n",
        "  P = gamma((theta + sigma - 1) / theta) **(1/(1-sigma)) * Phi ** (-1/theta)\n",
        "\n",
        "  X = np.zeros((N,N))\n",
        "  for OR,DE in np.ndindex((N,N)):\n",
        "    X[OR,DE] = pi[OR,DE] * Xn[DE]\n",
        "\n",
        "  L_S = L\n",
        "  L_D = np.zeros((N))\n",
        "  for OR,DE in np.ndindex((N,N)):\n",
        "    L_D[OR] += X[OR,DE] / w[OR] # L_D[OR] = L_D[OR] + X[OR,DE] / w[OR]\n",
        "\n",
        "  Z = L_D - L_S\n",
        "  w_new = w * (1 + psi * (Z / L) )\n",
        "\n",
        "  wgdp = np.sum(w_new * L)\n",
        "  w_new = w_new / wgdp\n",
        "\n",
        "  return w_new,Z,P,X"
      ],
      "metadata": {
        "id": "jg-qpBE-rTGN"
      },
      "execution_count": 19,
      "outputs": []
    },
    {
      "cell_type": "markdown",
      "source": [
        "ここでちゃんと結果が前の関数なしで書いたiterationと一致するかを確認する"
      ],
      "metadata": {
        "id": "6d339SxLsllg"
      }
    },
    {
      "cell_type": "code",
      "source": [
        "w_newfunc,_,_,_ = updatewage(w,sigma=sigma,theta=theta,N=N,L=L,T=T,tau=tau,psi=psi)\n",
        "print(w_newfunc)\n",
        "print(w_new)"
      ],
      "metadata": {
        "colab": {
          "base_uri": "https://localhost:8080/"
        },
        "id": "hZ5Noj83s2Jl",
        "outputId": "e8e97665-78b6-479b-d6b2-13d662e70dbd"
      },
      "execution_count": 23,
      "outputs": [
        {
          "output_type": "stream",
          "name": "stdout",
          "text": [
            "[0.25353982 0.24882006 0.24882006]\n",
            "[0.25353982 0.24882006 0.24882006]\n"
          ]
        }
      ]
    },
    {
      "cell_type": "markdown",
      "source": [
        "# While-loopの導入\n",
        "\n",
        "ここではwhile loopを用いて、賃金が超過需要を十分に小さくするまで、更新を続けていくようなコードを書いていく。ここで閾値tolを定義する。"
      ],
      "metadata": {
        "id": "5epOEHyOs12O"
      }
    },
    {
      "cell_type": "code",
      "source": [
        "tol = 0.0001\n",
        "maxiter = 1000\n",
        "iter = 1\n",
        "\n",
        "Z = np.ones((N))\n",
        "w = np.ones((N))\n",
        "while max(np.abs(Z)) > tol and iter < maxiter:\n",
        "  iter += 1\n",
        "  w_old = np.copy(w)\n",
        "  w,Z,_,_ = updatewage(w,theta=4,sigma=3,N=3,L=L,T=T,tau=tau,psi=0.1)\n",
        "  if iter % 10 == 0:\n",
        "    print(iter)\n",
        "    print(Z)\n",
        "    print(w)\n",
        "\n",
        "if iter == maxiter:\n",
        "  print(\"Not done, max iteration limit reached\")\n",
        "else:\n",
        "  print(\"Done\")\n",
        "  w,Z,P,X = updatewage(w,theta=4,sigma=3,N=3,L=L,T=T,tau=tau,psi=0.1)\n",
        "\n",
        "print(Z)\n",
        "print(w)\n"
      ],
      "metadata": {
        "colab": {
          "base_uri": "https://localhost:8080/"
        },
        "id": "KYG-ECJQCSA9",
        "outputId": "987f8be5-0d85-4a84-8fa6-7c9aca8675d5"
      },
      "execution_count": 28,
      "outputs": [
        {
          "output_type": "stream",
          "name": "stdout",
          "text": [
            "10\n",
            "[ 0.00559218 -0.00294981 -0.00294981]\n",
            "[0.26031388 0.24656204 0.24656204]\n",
            "20\n",
            "[ 1.13421104e-04 -5.99655974e-05 -5.99655974e-05]\n",
            "[0.26061275 0.24646242 0.24646242]\n",
            "Done\n",
            "[ 5.20614440e-05 -2.75255293e-05 -2.75255293e-05]\n",
            "[0.26061611 0.2464613  0.2464613 ]\n"
          ]
        }
      ]
    },
    {
      "cell_type": "markdown",
      "source": [
        "最後に厚生を計算します。厚生は\n",
        "$$ U_n = \\frac{w_n}{P_n} $$\n",
        "となります。"
      ],
      "metadata": {
        "id": "lSZXD3uWCRgn"
      }
    },
    {
      "cell_type": "code",
      "source": [
        "U = w / P\n",
        "print(U)"
      ],
      "metadata": {
        "colab": {
          "base_uri": "https://localhost:8080/"
        },
        "id": "LgB7PhI7IZdW",
        "outputId": "5f2567b4-379b-46a1-ea8b-2ab217618378"
      },
      "execution_count": 29,
      "outputs": [
        {
          "output_type": "stream",
          "name": "stdout",
          "text": [
            "[1.04077555 1.01577716 1.01577716]\n"
          ]
        }
      ]
    }
  ]
}