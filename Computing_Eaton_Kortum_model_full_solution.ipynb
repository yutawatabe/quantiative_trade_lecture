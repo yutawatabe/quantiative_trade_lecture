{
  "nbformat": 4,
  "nbformat_minor": 0,
  "metadata": {
    "colab": {
      "provenance": [],
      "toc_visible": true,
      "authorship_tag": "ABX9TyMNoJKSPEOe0NQ5yTolrlKM",
      "include_colab_link": true
    },
    "kernelspec": {
      "name": "python3",
      "display_name": "Python 3"
    },
    "language_info": {
      "name": "python"
    }
  },
  "cells": [
    {
      "cell_type": "markdown",
      "metadata": {
        "id": "view-in-github",
        "colab_type": "text"
      },
      "source": [
        "<a href=\"https://colab.research.google.com/github/yutawatabe/quantiative_trade_lecture/blob/main/Computing_Eaton_Kortum_model_full_solution.ipynb\" target=\"_parent\"><img src=\"https://colab.research.google.com/assets/colab-badge.svg\" alt=\"Open In Colab\"/></a>"
      ]
    },
    {
      "cell_type": "markdown",
      "source": [
        "# **パラメーターから均衡へ**\n",
        "\n",
        "シミュレートした適当なパラメーターから均衡の計算を行う。"
      ],
      "metadata": {
        "id": "XV5vNHAwd6a7"
      }
    },
    {
      "cell_type": "code",
      "source": [
        "# numpy, mathをインポート\n",
        "import numpy as np # 行列計算のライブラリ\n",
        "from math import gamma # 価格指数のため"
      ],
      "metadata": {
        "id": "7WLt4RIYIuxU"
      },
      "execution_count": 132,
      "outputs": []
    },
    {
      "cell_type": "markdown",
      "source": [
        "## まずパラメーターを設定する。"
      ],
      "metadata": {
        "id": "EmqqODmOIoZ3"
      }
    },
    {
      "cell_type": "code",
      "execution_count": 133,
      "metadata": {
        "id": "ejM5utGkF5nn"
      },
      "outputs": [],
      "source": [
        "N = 3 # 国の数\n",
        "theta = 4 # 貿易弾力性のパラメーター\n",
        "sigma = 3 # 代替の弾力性のパラメーター"
      ]
    },
    {
      "cell_type": "code",
      "source": [
        "T = np.array([1., 1., 1.]) # 技術パラメーター\n",
        "print(T)\n",
        "print(T.shape)"
      ],
      "metadata": {
        "colab": {
          "base_uri": "https://localhost:8080/"
        },
        "id": "G2_TRcxWH1r-",
        "outputId": "4fda21c7-7559-4658-aa8a-42b19f8a5045"
      },
      "execution_count": 134,
      "outputs": [
        {
          "output_type": "stream",
          "name": "stdout",
          "text": [
            "[1. 1. 1.]\n",
            "(3,)\n"
          ]
        }
      ]
    },
    {
      "cell_type": "code",
      "source": [
        "L = np.array([1,1.5,1.5]) # 人口\n",
        "print(L)\n",
        "print(L.shape)"
      ],
      "metadata": {
        "colab": {
          "base_uri": "https://localhost:8080/"
        },
        "id": "8yR40FyqH9oU",
        "outputId": "afb3a98f-98dd-47c1-c0da-e2e2deff271e"
      },
      "execution_count": 135,
      "outputs": [
        {
          "output_type": "stream",
          "name": "stdout",
          "text": [
            "[1.  1.5 1.5]\n",
            "(3,)\n"
          ]
        }
      ]
    },
    {
      "cell_type": "markdown",
      "source": [
        "まず $\\boldsymbol{\\tau}$のすべての要素を1.5として、そのあとにループを使用して国内貿易費用を1とする。"
      ],
      "metadata": {
        "id": "XLpJmOpfjucF"
      }
    },
    {
      "cell_type": "code",
      "source": [
        "tau = np.ones((N,N)) * 1.5 # 貿易費用\n",
        "print(tau)\n",
        "print(tau.shape)\n",
        "for OR in np.ndindex((N)):\n",
        "  print(OR)\n",
        "  tau[OR,OR] = 1 #国内貿易費用は1\n",
        "\n",
        "print(tau)"
      ],
      "metadata": {
        "colab": {
          "base_uri": "https://localhost:8080/"
        },
        "id": "p_yih9k-H6dC",
        "outputId": "e26776cd-541c-4af7-e7b1-c4e2650e848f"
      },
      "execution_count": 136,
      "outputs": [
        {
          "output_type": "stream",
          "name": "stdout",
          "text": [
            "[[1.5 1.5 1.5]\n",
            " [1.5 1.5 1.5]\n",
            " [1.5 1.5 1.5]]\n",
            "(3, 3)\n",
            "(0,)\n",
            "(1,)\n",
            "(2,)\n",
            "[[1.  1.5 1.5]\n",
            " [1.5 1.  1.5]\n",
            " [1.5 1.5 1. ]]\n"
          ]
        }
      ]
    },
    {
      "cell_type": "markdown",
      "source": [
        "**仮置きした賃金での均衡の確認**\n",
        "\n",
        "仮に国の賃金が同一として、果たして労働市場（財市場）が均衡するかを見ていく。候補として全ての国 $i$ に対して\n",
        "$$ w_i = 1 $$\n",
        "を考えてみる。\n"
      ],
      "metadata": {
        "id": "9-l0QARYeRv4"
      }
    },
    {
      "cell_type": "code",
      "source": [
        "w = np.ones((N))\n",
        "print(w)"
      ],
      "metadata": {
        "colab": {
          "base_uri": "https://localhost:8080/"
        },
        "id": "0YhFoXwrgQ5z",
        "outputId": "2d632643-deb5-4431-e265-06e91f03e9d6"
      },
      "execution_count": 98,
      "outputs": [
        {
          "output_type": "stream",
          "name": "stdout",
          "text": [
            "[1. 1. 1.]\n"
          ]
        }
      ]
    },
    {
      "cell_type": "markdown",
      "source": [
        "まず総所得（消費）を計算しておく。$X_n$を総消費とする。この経済では労働のみが生産要素なので、\n",
        "$$X_n = w_n L_n$$\n",
        "となる。"
      ],
      "metadata": {
        "id": "MGliF4mtmZY-"
      }
    },
    {
      "cell_type": "code",
      "source": [
        "Xn = w * L\n",
        "print(Xn)"
      ],
      "metadata": {
        "colab": {
          "base_uri": "https://localhost:8080/"
        },
        "id": "S0_mp0ZUmyr6",
        "outputId": "cb163119-dfd2-4a84-d1ba-6af478bd933b"
      },
      "execution_count": 99,
      "outputs": [
        {
          "output_type": "stream",
          "name": "stdout",
          "text": [
            "[1.  1.5 1.5]\n"
          ]
        }
      ]
    },
    {
      "cell_type": "markdown",
      "source": [
        "まず投入費用$c_{in}$を計算する\n",
        "$$ c_{in} = w_i \\tau_{in} $$"
      ],
      "metadata": {
        "id": "JM3mPSm4gHG1"
      }
    },
    {
      "cell_type": "code",
      "source": [
        "c = np.zeros((N,N)) # i国からn国までの投入費用（を入れるための箱）\n",
        "for OR,DE in np.ndindex((N,N)):\n",
        "  print(OR)\n",
        "  print(DE)\n",
        "  c[OR,DE] = w[OR] * tau[OR,DE]\n",
        "  print(c[OR,DE])\n"
      ],
      "metadata": {
        "colab": {
          "base_uri": "https://localhost:8080/"
        },
        "id": "SW3lqOhWJYR8",
        "outputId": "c5c5353c-b584-4f91-b0e5-ad1afce5290c"
      },
      "execution_count": 100,
      "outputs": [
        {
          "output_type": "stream",
          "name": "stdout",
          "text": [
            "0\n",
            "0\n",
            "1.0\n",
            "0\n",
            "1\n",
            "1.5\n",
            "0\n",
            "2\n",
            "1.5\n",
            "1\n",
            "0\n",
            "1.5\n",
            "1\n",
            "1\n",
            "1.0\n",
            "1\n",
            "2\n",
            "1.5\n",
            "2\n",
            "0\n",
            "1.5\n",
            "2\n",
            "1\n",
            "1.5\n",
            "2\n",
            "2\n",
            "1.0\n"
          ]
        }
      ]
    },
    {
      "cell_type": "markdown",
      "source": [
        "それを使って輸入シェアを計算する。\n",
        "$$ \\pi_{in} = \\frac{ T_{i} c_{in}^{-\\theta}}{\\sum_{k=1} T_{k} c_{ki}^{-\\theta} }   $$\n",
        "コーディングの際には以下のような表記を用いる。\n",
        "$$ \\pi_{in} = \\frac{\\pi_{in,num}}{\\Phi_{n}} $$\n",
        "ここでは\n",
        "$$ \\pi_{in,num} = T_{i} c_{in}^{-\\theta} $$\n",
        "であり、\n",
        "$$ \\Phi_{n} = \\sum_{k=1}^N T_{i} c_{kn}^{-\\theta} $$\n",
        "となっている。\n"
      ],
      "metadata": {
        "id": "RyD6me-XgB9U"
      }
    },
    {
      "cell_type": "code",
      "source": [
        "pi = np.zeros((N,N)) # 輸入シェア（n国の総消費のうち、i国の財が何割を占めるか）\n",
        "pi_num = np.zeros((N,N)) # 輸入シェアの分子部分\n",
        "Phi = np.zeros((N)) # 輸入シェアの分母部分\n",
        "\n",
        "for OR,DE in np.ndindex((N,N)):\n",
        "  pi_num[OR,DE] = T[OR] * (w[OR] * tau[OR,DE]) ** (-theta)\n",
        "  Phi[DE] += pi_num[OR,DE] # pi_den[DE] = pi_den[DE] + pi_num[OR,DE]\n",
        "\n",
        "for OR,DE in np.ndindex((N,N)):\n",
        "  pi[OR,DE] = pi_num[OR,DE] / Phi[DE]\n",
        "\n",
        "print(pi)"
      ],
      "metadata": {
        "colab": {
          "base_uri": "https://localhost:8080/"
        },
        "id": "vG2HtS4SW79e",
        "outputId": "ee5187c0-89af-48fa-ec08-e27a8ad88ae6"
      },
      "execution_count": 123,
      "outputs": [
        {
          "output_type": "stream",
          "name": "stdout",
          "text": [
            "[[0.66937672 0.11655476 0.11655476]\n",
            " [0.16531164 0.73772231 0.14572293]\n",
            " [0.16531164 0.14572293 0.73772231]]\n"
          ]
        }
      ]
    },
    {
      "cell_type": "markdown",
      "source": [
        "ここで、$\\pi_{in}$の定義上、$ \\sum_{i=1}^N \\pi_{in} = 1 $ が成立するはず。\n",
        "また仮置きした賃金が同一であり、国の技術、貿易費用が対象のため、$\\boldsymbol{\\pi}$も対称になる。それを上で確認する。\n",
        "\n",
        "ここから価格指数を計算しておく（あとで厚生の評価に使う）\n",
        "$$ P_{n} = \\Gamma \\left( \\frac{\\theta + \\sigma -1}{\\theta} \\right) \\Phi_{n}^{-1/\\theta} $$"
      ],
      "metadata": {
        "id": "6DIAFEAuhoCF"
      }
    },
    {
      "cell_type": "code",
      "source": [
        "P = gamma((theta + sigma - 1) / theta) **(1/(1-sigma)) * Phi ** (-1/theta)\n",
        "print(P)"
      ],
      "metadata": {
        "colab": {
          "base_uri": "https://localhost:8080/"
        },
        "id": "AFjgvl7WGFPo",
        "outputId": "ed7dca74-f0ad-4387-8ef3-a3ea5af2912a"
      },
      "execution_count": 125,
      "outputs": [
        {
          "output_type": "stream",
          "name": "stdout",
          "text": [
            "[0.25040568 0.24263323 0.24263323]\n"
          ]
        }
      ]
    },
    {
      "cell_type": "markdown",
      "source": [
        "$i$ 国から $n$ 国への輸出は、輸入シェアに輸入国の総消費をかけたものになる。\n",
        "$$X_{in} = \\pi_{in} X_n $$"
      ],
      "metadata": {
        "id": "AlrFw4rzmRgb"
      }
    },
    {
      "cell_type": "code",
      "source": [
        "X = np.zeros((N,N))\n",
        "for OR,DE in np.ndindex((N,N)):\n",
        "  X[OR,DE] = pi[OR,DE] * Xn[DE]\n",
        "\n",
        "print(X)"
      ],
      "metadata": {
        "colab": {
          "base_uri": "https://localhost:8080/"
        },
        "id": "6zVtLZQKmUM3",
        "outputId": "87216b1c-8c18-40af-cc74-231b6b84a6f3"
      },
      "execution_count": 102,
      "outputs": [
        {
          "output_type": "stream",
          "name": "stdout",
          "text": [
            "[[0.71681416 0.21238938 0.21238938]\n",
            " [0.14159292 1.07522124 0.21238938]\n",
            " [0.14159292 0.21238938 1.07522124]]\n"
          ]
        }
      ]
    },
    {
      "cell_type": "markdown",
      "source": [
        "ここでは$\\boldsymbol{\\pi}$のように足して1にならず、対称でもない。これは需要規模が国によって違うため（消費者の数が違う）。"
      ],
      "metadata": {
        "id": "LPlMHGkiofd8"
      }
    },
    {
      "cell_type": "markdown",
      "source": [
        "**労働市場の均衡の確認**\n",
        "\n",
        "まず労働供給は固定であり、$\\boldsymbol{L} = \\boldsymbol{L}_S$になる。"
      ],
      "metadata": {
        "id": "xOgPAzm8kNSO"
      }
    },
    {
      "cell_type": "code",
      "source": [
        "L_S = L\n",
        "print(L)"
      ],
      "metadata": {
        "colab": {
          "base_uri": "https://localhost:8080/"
        },
        "id": "UrgkduSlj9mL",
        "outputId": "554fa24c-db25-4f1f-de4c-66e4a9d0e762"
      },
      "execution_count": 103,
      "outputs": [
        {
          "output_type": "stream",
          "name": "stdout",
          "text": [
            "[1.  1.5 1.5]\n"
          ]
        }
      ]
    },
    {
      "cell_type": "markdown",
      "source": [
        "労働需要は、総売上を賃金で割ると導ける。数学的には\n",
        "$$ L_{i,D} = \\frac{ X_{in}}{w_i} $$\n",
        "が労働需要になる。これを計算して、労働の超過需要をZを求めてあげる。\n",
        "$$ Z_{i} = L_{i,D} - L_i $$"
      ],
      "metadata": {
        "id": "a0Y4xdSmk2zj"
      }
    },
    {
      "cell_type": "code",
      "source": [
        "L_D = np.zeros((N))\n",
        "for OR,DE in np.ndindex((N,N)):\n",
        "  L_D[OR] += X[OR,DE] / w[OR] # L_D[OR] = L_D[OR] + X[OR,DE] / w[OR]\n",
        "\n",
        "Z = L_D - L_S"
      ],
      "metadata": {
        "id": "GcopTU0Vnuej"
      },
      "execution_count": 104,
      "outputs": []
    },
    {
      "cell_type": "markdown",
      "source": [
        "この賃金が労働市場を均衡させる賃金なら、Zはどの国でも0になるはず。"
      ],
      "metadata": {
        "id": "gfBC3Jt8oKbd"
      }
    },
    {
      "cell_type": "code",
      "source": [
        "print(Z)"
      ],
      "metadata": {
        "colab": {
          "base_uri": "https://localhost:8080/"
        },
        "id": "9qAi915eoRYT",
        "outputId": "eac5d347-fc76-4750-cc59-c929ccc1926f"
      },
      "execution_count": 105,
      "outputs": [
        {
          "output_type": "stream",
          "name": "stdout",
          "text": [
            "[ 0.14159292 -0.07079646 -0.07079646]\n"
          ]
        }
      ]
    },
    {
      "cell_type": "markdown",
      "source": [
        "ならない、ということはこの賃金は均衡賃金ではない！\n",
        "次の賃金候補を探してあげたい。今の賃金を $w^0_i$とし（最初のinterationの賃金）、アップデート方法を考える。ここでは超過需要を用いたアップデータ方を用いる。"
      ],
      "metadata": {
        "id": "Tm0jzSifoROG"
      }
    },
    {
      "cell_type": "code",
      "source": [
        "psi = 0.1 # 収束のスピードをコントロールするパラメーター\n",
        "\n",
        "w_new = w * (1 + psi * (Z / L) )"
      ],
      "metadata": {
        "id": "9wM767WopTRh"
      },
      "execution_count": 106,
      "outputs": []
    },
    {
      "cell_type": "markdown",
      "source": [
        "ここで新しい$w$と古い$w$を比較する。ちゃんと超過需要が発生していた国において賃金が高くなっているか確認できるはず。"
      ],
      "metadata": {
        "id": "oFLxf4KuoJhJ"
      }
    },
    {
      "cell_type": "code",
      "source": [
        "print(Z)\n",
        "print(w_new - w)"
      ],
      "metadata": {
        "colab": {
          "base_uri": "https://localhost:8080/"
        },
        "id": "d8IMJznXqFex",
        "outputId": "37490c01-2227-48ac-e7e3-3fb57105e1ab"
      },
      "execution_count": 107,
      "outputs": [
        {
          "output_type": "stream",
          "name": "stdout",
          "text": [
            "[ 0.14159292 -0.07079646 -0.07079646]\n",
            "[ 0.01415929 -0.00471976 -0.00471976]\n"
          ]
        }
      ]
    },
    {
      "cell_type": "markdown",
      "source": [
        "均衡賃金は基準化なしに一意にはきまらない。最後に世界のGDPが1になるように基準化しておく。"
      ],
      "metadata": {
        "id": "TsTtoAz5qPyC"
      }
    },
    {
      "cell_type": "code",
      "source": [
        "wgdp = np.sum(w_new * L)\n",
        "print(wgdp)\n",
        "w_new = w_new / wgdp\n",
        "print(w_new)"
      ],
      "metadata": {
        "colab": {
          "base_uri": "https://localhost:8080/"
        },
        "id": "Jiz2aVTgqj-k",
        "outputId": "4eefb55d-c6ab-4d13-ee49-0d05f1379875"
      },
      "execution_count": 108,
      "outputs": [
        {
          "output_type": "stream",
          "name": "stdout",
          "text": [
            "4.0\n",
            "[0.25353982 0.24882006 0.24882006]\n"
          ]
        }
      ]
    },
    {
      "cell_type": "markdown",
      "source": [
        "いままでの流れをまとめると\n",
        "\n",
        "\n",
        "1.   パラメーターを設定する\n",
        "2.   仮定した賃金をもとに、輸入シェア、貿易額を計算する\n",
        "3.   貿易額を用いて、労働市場の均衡をチェックする\n",
        "4.   労働の超過需要を用いて、仮置きした賃金を更新していく。\n",
        "\n",
        "この2から4を**関数**にまとめる。\n"
      ],
      "metadata": {
        "id": "msJAEo7-q2i_"
      }
    },
    {
      "cell_type": "code",
      "source": [
        "def updatewage(w,theta,sigma,N,L,T,tau,psi):\n",
        "  Xn = w * L\n",
        "\n",
        "  c = np.zeros((N,N)) # i国からn国までの投入費用（を入れるための箱）\n",
        "  for OR,DE in np.ndindex((N,N)):\n",
        "    c[OR,DE] = w[OR] * tau[OR,DE]\n",
        "\n",
        "  pi = np.zeros((N,N)) # 輸入シェア（n国の総消費のうち、i国の財が何割を占めるか）\n",
        "  pi_num = np.zeros((N,N)) # 輸入シェアの分子部分\n",
        "  pi_den = np.zeros((N)) # 輸入シェアの分母部分\n",
        "\n",
        "  for OR,DE in np.ndindex((N,N)):\n",
        "    pi_num[OR,DE] = T[OR] * (w[OR] * tau[OR,DE]) ** (-theta)\n",
        "    pi_den[DE] += pi_num[OR,DE] # pi_den[DE] = pi_den[DE] + pi_num[OR,DE]\n",
        "\n",
        "  for OR,DE in np.ndindex((N,N)):\n",
        "    pi[OR,DE] = pi_num[OR,DE] / pi_den[DE]\n",
        "\n",
        "  P = gamma((theta + sigma - 1) / theta) **(1/(1-sigma)) * Phi ** (-1/theta)\n",
        "\n",
        "  X = np.zeros((N,N))\n",
        "  for OR,DE in np.ndindex((N,N)):\n",
        "    X[OR,DE] = pi[OR,DE] * Xn[DE]\n",
        "\n",
        "  L_S = L\n",
        "  L_D = np.zeros((N))\n",
        "  for OR,DE in np.ndindex((N,N)):\n",
        "    L_D[OR] += X[OR,DE] / w[OR] # L_D[OR] = L_D[OR] + X[OR,DE] / w[OR]\n",
        "\n",
        "  Z = L_D - L_S\n",
        "  w_new = w * (1 + psi * (Z / L) )\n",
        "\n",
        "  wgdp = np.sum(w_new * L)\n",
        "  w_new = w_new / wgdp\n",
        "\n",
        "  return w_new,Z,P,X"
      ],
      "metadata": {
        "id": "jg-qpBE-rTGN"
      },
      "execution_count": 126,
      "outputs": []
    },
    {
      "cell_type": "markdown",
      "source": [
        "ここでちゃんと結果が前の関数なしで書いたiterationと一致するかを確認する"
      ],
      "metadata": {
        "id": "6d339SxLsllg"
      }
    },
    {
      "cell_type": "code",
      "source": [
        "w_newfunc,_ = updatewage(w,theta=theta,N=N,L=L,T=T,tau=tau,psi=psi)\n",
        "print(w_newfunc)\n",
        "print(w_new)"
      ],
      "metadata": {
        "colab": {
          "base_uri": "https://localhost:8080/"
        },
        "id": "hZ5Noj83s2Jl",
        "outputId": "9cd55770-d954-4009-a62f-7382c293361b"
      },
      "execution_count": 110,
      "outputs": [
        {
          "output_type": "stream",
          "name": "stdout",
          "text": [
            "[0.25353982 0.24882006 0.24882006]\n",
            "[0.25353982 0.24882006 0.24882006]\n"
          ]
        }
      ]
    },
    {
      "cell_type": "markdown",
      "source": [
        "# While-loopの導入\n",
        "\n",
        "ここではwhile loopを用いて、賃金が超過需要を十分に小さくするまで、更新を続けていくようなコードを書いていく。ここで閾値tolを定義する。"
      ],
      "metadata": {
        "id": "5epOEHyOs12O"
      }
    },
    {
      "cell_type": "code",
      "source": [
        "tol = 0.0001\n",
        "iter = 1\n",
        "\n",
        "Z = np.ones((N))\n",
        "w = np.ones((N))\n",
        "while max(np.abs(Z)) > tol and iter < 100:\n",
        "  iter += 1\n",
        "  w_old = np.copy(w)\n",
        "  w,Z,_,_ = updatewage(w,theta=4,sigma=3,N=3,L=L,T=T,tau=tau,psi=0.1)\n",
        "  if iter % 10 == 0:\n",
        "    print(iter)\n",
        "    print(Z)\n",
        "    print(w)\n",
        "\n",
        "print(\"Done?\")\n",
        "\n",
        "w,Z,P,X = updatewage(w,theta=4,sigma=3,N=3,L=L,T=T,tau=tau,psi=0.1)\n",
        "print(Z)\n",
        "print(w)\n"
      ],
      "metadata": {
        "colab": {
          "base_uri": "https://localhost:8080/"
        },
        "id": "KYG-ECJQCSA9",
        "outputId": "2eed1efe-87da-408b-924e-da0bd289a9dd"
      },
      "execution_count": 130,
      "outputs": [
        {
          "output_type": "stream",
          "name": "stdout",
          "text": [
            "10\n",
            "[ 0.00559218 -0.00294981 -0.00294981]\n",
            "[0.26031388 0.24656204 0.24656204]\n",
            "20\n",
            "[ 1.13421104e-04 -5.99655974e-05 -5.99655974e-05]\n",
            "[0.26061275 0.24646242 0.24646242]\n",
            "Done?\n",
            "[ 5.20614440e-05 -2.75255293e-05 -2.75255293e-05]\n",
            "[0.26061611 0.2464613  0.2464613 ]\n"
          ]
        }
      ]
    },
    {
      "cell_type": "markdown",
      "source": [
        "最後に厚生を計算します。厚生は\n",
        "$$ U_n = \\frac{w_n}{P_n} $$\n",
        "となります。"
      ],
      "metadata": {
        "id": "lSZXD3uWCRgn"
      }
    },
    {
      "cell_type": "code",
      "source": [
        "U = w / P\n",
        "print(U)"
      ],
      "metadata": {
        "colab": {
          "base_uri": "https://localhost:8080/"
        },
        "id": "LgB7PhI7IZdW",
        "outputId": "dd6ecfda-147a-44c1-9f72-8d5a484fe5cd"
      },
      "execution_count": 131,
      "outputs": [
        {
          "output_type": "stream",
          "name": "stdout",
          "text": [
            "[1.04077555 1.01577716 1.01577716]\n"
          ]
        }
      ]
    }
  ]
}