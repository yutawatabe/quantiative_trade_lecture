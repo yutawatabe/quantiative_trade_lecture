{
  "nbformat": 4,
  "nbformat_minor": 0,
  "metadata": {
    "colab": {
      "provenance": [],
      "authorship_tag": "ABX9TyNk8mZNb2HV2wWCQIwUXuNT",
      "include_colab_link": true
    },
    "kernelspec": {
      "name": "python3",
      "display_name": "Python 3"
    },
    "language_info": {
      "name": "python"
    }
  },
  "cells": [
    {
      "cell_type": "markdown",
      "metadata": {
        "id": "view-in-github",
        "colab_type": "text"
      },
      "source": [
        "<a href=\"https://colab.research.google.com/github/yutawatabe/quantiative_trade_lecture/blob/main/Computing_Eaton_Kortum_exact_hat_algebra.ipynb\" target=\"_parent\"><img src=\"https://colab.research.google.com/assets/colab-badge.svg\" alt=\"Open In Colab\"/></a>"
      ]
    },
    {
      "cell_type": "markdown",
      "source": [
        "## Exact hat algebraを用いた反実仮想の計算"
      ],
      "metadata": {
        "id": "cVw2TtQXNiH2"
      }
    },
    {
      "cell_type": "code",
      "execution_count": null,
      "metadata": {
        "id": "RV7VaLC9NYiq"
      },
      "outputs": [],
      "source": [
        "# numpy, mathをインポート\n",
        "import numpy as np # 行列計算のライブラリ\n",
        "from math import gamma # 価格指数のため"
      ]
    },
    {
      "cell_type": "markdown",
      "source": [
        "パラメーターをシミュレートして、Eaton Kortumモデルの均衡を計算する。均衡を計算するために賃金を更新する関数を再び導入し、最終的に均衡の賃金、貿易額を求めるところまで関数化する。"
      ],
      "metadata": {
        "id": "q_RmTRuWOTNe"
      }
    },
    {
      "cell_type": "code",
      "source": [
        "def updatewage(w,theta,sigma,N,L,T,ｄ,psi):\n",
        "  Xn = w * L\n",
        "\n",
        "  pi = np.zeros((N,N)) # 輸入シェア（n国の総消費のうち、i国の財が何割を占めるか）\n",
        "  pi_num = np.zeros((N,N)) # 輸入シェアの分子部分\n",
        "  Phi = np.zeros((N)) # 輸入シェアの分母部分\n",
        "\n",
        "  for OR,DE in np.ndindex((N,N)):\n",
        "    pi_num[OR,DE] = T[OR] * (w[OR] * ｄ[OR,DE]) ** (-theta)\n",
        "    Phi[DE] += pi_num[OR,DE] # Phi[DE] = pi_den[DE] + pi_num[OR,DE]\n",
        "\n",
        "  for OR,DE in np.ndindex((N,N)):\n",
        "    pi[OR,DE] = pi_num[OR,DE] / Phi[DE]\n",
        "\n",
        "  P = gamma((theta + sigma - 1) / theta) **(1/(1-sigma)) * Phi ** (-1/theta)\n",
        "\n",
        "  X = np.zeros((N,N))\n",
        "  for OR,DE in np.ndindex((N,N)):\n",
        "    X[OR,DE] = pi[OR,DE] * Xn[DE]\n",
        "\n",
        "  L_S = L\n",
        "  L_D = np.zeros((N))\n",
        "  for OR,DE in np.ndindex((N,N)):\n",
        "    L_D[OR] += X[OR,DE] / w[OR] # L_D[OR] = L_D[OR] + X[OR,DE] / w[OR]\n",
        "\n",
        "  Z = L_D - L_S\n",
        "  w_new = w * (1 + psi * (Z / L) )\n",
        "\n",
        "  wgdp = np.sum(w_new * L)\n",
        "  w_new = w_new / wgdp\n",
        "\n",
        "  return w_new,Z,X,P\n",
        "\n",
        "def solve_eqm(theta,sigma,N,L,T,d,psi,tol,maxiter):\n",
        "  Z = np.ones((N))\n",
        "  w = np.ones((N))\n",
        "\n",
        "  iter = 1\n",
        "  while max(np.abs(Z)) > tol and iter < maxiter:\n",
        "    iter += 1\n",
        "    w_old = np.copy(w)\n",
        "    w,Z,_,_ = updatewage(w,theta=4,sigma=3,N=3,L=L,T=T,d=d,psi=0.1)\n",
        "    if iter % 10 == 0:\n",
        "      print(iter)\n",
        "      #print(Z)\n",
        "      #print(w)\n",
        "\n",
        "  if iter == maxiter:\n",
        "    print(\"Not done\")\n",
        "    return w,Z,P,X\n",
        "  else:\n",
        "    w,Z,X,P = updatewage(w,theta=4,sigma=3,N=3,L=L,T=T,d=d,psi=0.1)\n",
        "    return w,Z,P,X\n"
      ],
      "metadata": {
        "id": "UpQJq_Z5OW0q"
      },
      "execution_count": null,
      "outputs": []
    },
    {
      "cell_type": "markdown",
      "source": [
        "この関数を用いて、均衡をパラメーターから計算しておく。"
      ],
      "metadata": {
        "id": "fbqQO5qCOXs7"
      }
    },
    {
      "cell_type": "code",
      "source": [
        "N = 3 # 国の数\n",
        "theta = 4 # 貿易弾力性のパラメーター\n",
        "sigma = 3 # 代替の弾力性のパラメーター\n",
        "T = np.array([1., 1., 1.]) # 技術のパラメーター\n",
        "L = np.array([1,1.5,1.5]) # 人口\n",
        "d = np.ones((N,N)) * 1.5 # 貿易費用\n",
        "for OR in np.ndindex((N)):\n",
        "  d[OR,OR] = 1 #国内貿易費用は\n",
        "\n",
        "w_sq,_,P_sq,X_sq = solve_eqm(theta,sigma,N,L,T,d,psi=0.1,tol=0.001,maxiter=1000)\n",
        "print(w_sq)"
      ],
      "metadata": {
        "colab": {
          "base_uri": "https://localhost:8080/"
        },
        "id": "oGOuj15EO4x2",
        "outputId": "51f562f6-8d9a-4f01-c0cb-1f95004f31a6"
      },
      "execution_count": null,
      "outputs": [
        {
          "output_type": "stream",
          "name": "stdout",
          "text": [
            "10\n",
            "[0.26058948 0.24647017 0.24647017]\n"
          ]
        }
      ]
    },
    {
      "cell_type": "markdown",
      "source": [
        "この数値を初期均衡として、反実仮想を計算する。まずパラメーターが既知として、モデルを解きなおしてみる。ここでは貿易自由化を考える。初期均衡では\n",
        "$$ \\tau_{in} = 1.5 $$\n",
        "だったところを\n",
        "$$ \\tau_{in}' = 1.2 $$\n",
        "としておく（国内貿易費用は1のまま固定）。"
      ],
      "metadata": {
        "id": "2S7Ydht6P62F"
      }
    },
    {
      "cell_type": "code",
      "source": [
        "d_new = np.ones((N,N)) * 1.2 # 貿易費用\n",
        "for OR in np.ndindex((N)):\n",
        "  d_new[OR,OR] = 1 #国内貿易費用は 1\n",
        "print(d_new)\n",
        "\n",
        "dhat = d_new / d\n",
        "print(dhat)"
      ],
      "metadata": {
        "colab": {
          "base_uri": "https://localhost:8080/"
        },
        "id": "NORRRqz-Pt9j",
        "outputId": "ac0f16ae-07c3-413a-f3b5-b20ed3256907"
      },
      "execution_count": null,
      "outputs": [
        {
          "output_type": "stream",
          "name": "stdout",
          "text": [
            "[[1.  1.2 1.2]\n",
            " [1.2 1.  1.2]\n",
            " [1.2 1.2 1. ]]\n",
            "[[1.  0.8 0.8]\n",
            " [0.8 1.  0.8]\n",
            " [0.8 0.8 1. ]]\n"
          ]
        }
      ]
    },
    {
      "cell_type": "markdown",
      "source": [
        "モデルを解きなおしてみて、実質賃金（厚生）を比較すると…。"
      ],
      "metadata": {
        "id": "B90vRPRhRzCk"
      }
    },
    {
      "cell_type": "code",
      "source": [
        "w_cf,_,P_cf,X_cf = solve_eqm(theta,sigma,N,L,T,d_new,psi=0.1,tol=0.001,maxiter=1000)\n",
        "\n",
        "U_sq = w_sq / P_sq\n",
        "U_cf = w_cf / P_cf\n",
        "print(U_cf/U_sq)"
      ],
      "metadata": {
        "colab": {
          "base_uri": "https://localhost:8080/"
        },
        "id": "t1BthhlHRyqN",
        "outputId": "36ab2ce3-12e4-4b61-ad52-e3e9632e9757"
      },
      "execution_count": null,
      "outputs": [
        {
          "output_type": "stream",
          "name": "stdout",
          "text": [
            "10\n",
            "[1.10938209 1.08093633 1.08093633]\n"
          ]
        }
      ]
    },
    {
      "cell_type": "markdown",
      "source": [
        "Exact hat algebraを使って、このTrade liberizationの反実仮想が整合的に求まるかを確認する。具体的には $(w_{sq} / P_{sq}) / (w_{cf} / P_{cf})$という実質賃金がモデルを解きなおした場合と、Exact hat algebraを使った場合で整合的かを確認していく。"
      ],
      "metadata": {
        "id": "HGhyi65dRw6b"
      }
    },
    {
      "cell_type": "markdown",
      "source": [
        "Exact hat algebraのために、総消費と輸入シェアを計算する。"
      ],
      "metadata": {
        "id": "EOa1iOTqSGoL"
      }
    },
    {
      "cell_type": "code",
      "source": [
        "Xabs_sq = np.sum(X_sq,axis=0)\n",
        "\n",
        "pi_sq = np.zeros((N,N))\n",
        "for OR,DE in np.ndindex((N,N)):\n",
        "  pi_sq[OR,DE] = X_sq[OR,DE] / Xabs_sq[DE]\n",
        "print(X_sq)\n",
        "print(Xabs_sq)\n",
        "print(pi_sq)"
      ],
      "metadata": {
        "colab": {
          "base_uri": "https://localhost:8080/"
        },
        "id": "asAQcFfBPCtA",
        "outputId": "de13c33f-02f9-4811-d5ce-6c251339eb1b"
      },
      "execution_count": null,
      "outputs": [
        {
          "output_type": "stream",
          "name": "stdout",
          "text": [
            "[[0.17447018 0.04312279 0.04312279]\n",
            " [0.04305264 0.27271905 0.05387043]\n",
            " [0.04305264 0.05387043 0.27271905]]\n",
            "[0.26057545 0.36971227 0.36971227]\n",
            "[[0.66955724 0.11663879 0.11663879]\n",
            " [0.16522138 0.73765214 0.14570907]\n",
            " [0.16522138 0.14570907 0.73765214]]\n"
          ]
        }
      ]
    },
    {
      "cell_type": "markdown",
      "source": [
        "とりあえず$\\boldsymbol{\\hat{w}}$をすべて1と仮置きして、Exact hat algebraの均衡が成立しているかを確認する。"
      ],
      "metadata": {
        "id": "CrgaFYccXhzU"
      }
    },
    {
      "cell_type": "code",
      "source": [
        "what = np.ones((N))\n",
        "print(what)"
      ],
      "metadata": {
        "colab": {
          "base_uri": "https://localhost:8080/"
        },
        "id": "J6JibPEdMlrw",
        "outputId": "d21b07a9-cb69-4eee-931b-5963843475f4"
      },
      "execution_count": null,
      "outputs": [
        {
          "output_type": "stream",
          "name": "stdout",
          "text": [
            "[1. 1. 1.]\n"
          ]
        }
      ]
    },
    {
      "cell_type": "markdown",
      "source": [
        "総消費もこれに伴って変化するため、それを計算しておく\n",
        "$$ X_{abs,i}' = \\hat{w}_{i} X_{abs,i} $$"
      ],
      "metadata": {
        "id": "kBLoaBVoSP3_"
      }
    },
    {
      "cell_type": "code",
      "source": [
        "Xabs1 = what * Xabs_sq\n",
        "print(Xabs1)"
      ],
      "metadata": {
        "colab": {
          "base_uri": "https://localhost:8080/"
        },
        "id": "0ykl6MqOSdub",
        "outputId": "f9139c0a-6964-47e2-99a3-0b97d4dc0d3a"
      },
      "execution_count": null,
      "outputs": [
        {
          "output_type": "stream",
          "name": "stdout",
          "text": [
            "[0.26057545 0.36971227 0.36971227]\n"
          ]
        }
      ]
    },
    {
      "cell_type": "markdown",
      "source": [
        "この$\\boldsymbol{\\hat{w}}$から$\\boldsymbol{\\hat{\\pi}}$を計算する\n",
        "$$ \\hat{\\pi}_{ni} = \\frac{(\\hat{w}_i \\hat{d}_{ni})^{-\\theta}}{ \\sum_{k=1}^N \\pi_{nk} (\\hat{w}_k \\hat{d}_{nk})^{-\\theta} } $$\n",
        "そして価格指数も計算する\n",
        "$$ \\hat{P}_n = \\left( \\sum_{k=1}^N \\pi_{nk} (\\hat{w}_k \\hat{d}_{nk})^{-\\theta} \\right)^{-1/\\theta} $$"
      ],
      "metadata": {
        "id": "hFBJBMk3MDfL"
      }
    },
    {
      "cell_type": "code",
      "source": [
        "pihat = np.zeros((N,N))\n",
        "pihat_num = np.zeros((N,N))\n",
        "pihat_den = np.zeros((N))\n",
        "\n",
        "for OR,DE in np.ndindex((N,N)):\n",
        "  pihat_num[OR,DE] = (what[OR] * dhat[OR,DE] )**(-theta)\n",
        "  pihat_den[DE] += pi_sq[OR,DE] * pihat_num[OR,DE]\n",
        "\n",
        "for OR,DE in np.ndindex((N,N)):\n",
        "  pihat[OR,DE] = pihat_num[OR,DE] / pihat_den[DE]\n",
        "\n",
        "Phat = pihat_den ** (-1/theta)\n",
        "\n",
        "print(pihat)\n",
        "print(pihat * pi_sq)\n",
        "print(np.sum(pihat*pi_sq,axis=0))"
      ],
      "metadata": {
        "colab": {
          "base_uri": "https://localhost:8080/"
        },
        "id": "DePy2TZuOBGg",
        "outputId": "7105ff28-5d18-424a-84cf-febdbf0812f9"
      },
      "execution_count": null,
      "outputs": [
        {
          "output_type": "stream",
          "name": "stdout",
          "text": [
            "[[0.66003744 1.70645845 1.70645845]\n",
            " [1.68884667 0.73254998 1.78845211]\n",
            " [1.68884667 1.78845211 0.73254998]]\n",
            "[[0.44193285 0.19903925 0.19903925]\n",
            " [0.27903357 0.54036707 0.26059369]\n",
            " [0.27903357 0.26059369 0.54036707]]\n",
            "[1. 1. 1.]\n"
          ]
        }
      ]
    },
    {
      "cell_type": "markdown",
      "source": [
        "ここで新しい貿易額を計算しておく\n",
        "$$ X'_{ni} = \\pi_{ni} \\hat{\\pi}_{ni} X'_{abs,i} $$"
      ],
      "metadata": {
        "id": "SAjEwi-XIW-_"
      }
    },
    {
      "cell_type": "code",
      "source": [
        "X1 = np.zeros((N,N))\n",
        "for OR,DE in np.ndindex((N,N)):\n",
        "  X1[OR,DE] = pi_sq[OR,DE] * pihat[OR,DE] * Xabs1[DE]\n"
      ],
      "metadata": {
        "id": "N43FhqI-IkGT"
      },
      "execution_count": null,
      "outputs": []
    },
    {
      "cell_type": "markdown",
      "source": [
        "仮置きされた$ \\boldsymbol{\\hat{w}}$の下で、労働市場均衡が成立しているかを確認する。労働市場が均衡しているということは\n",
        "\n",
        "1.   労働供給は変化していない。\n",
        "2.   労働市場が均衡するためには、労働需要も変化してはいけない。\n",
        "\n",
        "つまり\n",
        "$$ L'_{D,i} = \\frac{\\sum_{n=1}^N X_{ni}'}{w_i'} $$\n",
        "について\n",
        "$$ L'_{D,i} = L_{D,i} = L_{S,i} = L_i$$\n",
        "となっていなくてはならない。これをhatで表現すると\n",
        "$$ \\hat{w}_i w_i L_{i} = \\sum_{n=1}^N X_{ni}' $$\n",
        "左を労働供給、右を労働需要ととらえ、この差を超過需要として計算してみる"
      ],
      "metadata": {
        "id": "z-7GaCzcTkRh"
      }
    },
    {
      "cell_type": "code",
      "source": [
        "wL_D = np.zeros((N))\n",
        "wL_S = w_sq * what * L\n",
        "\n",
        "for OR,DE in np.ndindex((N,N)):\n",
        "  wL_D[OR] += X1[OR,DE]\n",
        "\n",
        "Z = (wL_D - wL_S) / what\n",
        "print(Z)"
      ],
      "metadata": {
        "colab": {
          "base_uri": "https://localhost:8080/"
        },
        "id": "87AOoX6ARB7H",
        "outputId": "a1151e25-376a-42cd-f4af-13c3507d2a6f"
      },
      "execution_count": null,
      "outputs": [
        {
          "output_type": "stream",
          "name": "stdout",
          "text": [
            "[ 0.01037596 -0.00518798 -0.00518798]\n"
          ]
        }
      ]
    },
    {
      "cell_type": "markdown",
      "source": [
        "モデルを解くのと同様に超過需要から$\\boldsymbol{\\hat{w}}$をアップデートする。同様に$\\psi$を設定しておく。\n",
        "$$ \\hat{w}_{new,i} = \\hat{w}_i * \\left(1 + \\psi * \\frac{Z_i}{X'_{abs,i}}\\right) $$"
      ],
      "metadata": {
        "id": "koRuDn26_BKH"
      }
    },
    {
      "cell_type": "code",
      "source": [
        "psi = 0.1 # 収束のスピードをコントロールするパラメーター\n",
        "\n",
        "what_new = what * (1 + psi * (Z / Xabs1) )"
      ],
      "metadata": {
        "id": "H-6FsNVS_KaG"
      },
      "execution_count": null,
      "outputs": []
    },
    {
      "cell_type": "markdown",
      "source": [
        "ここで新しい$\\boldsymbol{\\hat{w}}$と古い$\\boldsymbol{\\hat{w}}$を比較する。ちゃんと超過需要が発生していた国において賃金が高くなっているか確認できるはず。"
      ],
      "metadata": {
        "id": "Fps2FGRcA2fV"
      }
    },
    {
      "cell_type": "code",
      "source": [
        "print(Z)\n",
        "print(what_new - what)"
      ],
      "metadata": {
        "colab": {
          "base_uri": "https://localhost:8080/"
        },
        "id": "Ro-mFZmTA2Mo",
        "outputId": "3d4433b2-df10-406e-f1a0-1ad4c8f99d96"
      },
      "execution_count": null,
      "outputs": [
        {
          "output_type": "stream",
          "name": "stdout",
          "text": [
            "[ 0.01037596 -0.00518798 -0.00518798]\n",
            "[ 0.00398194 -0.00140325 -0.00140325]\n"
          ]
        }
      ]
    },
    {
      "cell_type": "markdown",
      "source": [
        "均衡賃金の変化は基準化なしに一意にはきまらない。最後に反実仮想の世界のGDPが1になる（世界全体のGDPが変化しない）ように基準化しておく。"
      ],
      "metadata": {
        "id": "IrAT4JoZA_Jx"
      }
    },
    {
      "cell_type": "code",
      "source": [
        "wgdp = np.sum(what_new * Xabs_sq)\n",
        "print(wgdp)\n",
        "what_new = what_new / wgdp\n",
        "print(what_new)"
      ],
      "metadata": {
        "colab": {
          "base_uri": "https://localhost:8080/"
        },
        "id": "jgrAtCA_BGtZ",
        "outputId": "21df7b75-628f-4338-9b26-eb298224dc70"
      },
      "execution_count": null,
      "outputs": [
        {
          "output_type": "stream",
          "name": "stdout",
          "text": [
            "1.0\n",
            "[1.00398194 0.99859675 0.99859675]\n"
          ]
        }
      ]
    },
    {
      "cell_type": "markdown",
      "source": [
        "いままでの流れをまとめると\n",
        "\n",
        "\n",
        "1.   パラメーターを設定する\n",
        "2.   仮定した賃金変化をもとに、輸入シェアの変化、貿易額の変化を計算する\n",
        "3.   新しい貿易額を用いて、労働市場の均衡をチェックする\n",
        "4.   労働の超過需要を用いて、仮置きした賃金変化を更新していく。\n",
        "\n",
        "この2から4を**関数**にまとめる。"
      ],
      "metadata": {
        "id": "IBZMdBi3Fvvt"
      }
    },
    {
      "cell_type": "code",
      "source": [
        "def updatewagehat(what,theta,N,X,psi):\n",
        "\n",
        "  #総需要を計算する\n",
        "  Xabs_sq = np.sum(X_sq,axis=0)\n",
        "  Xabs1 = what * Xabs_sq\n",
        "\n",
        "  # 輸入シェアを計算する\n",
        "  pi_sq = np.zeros((N,N))\n",
        "  for OR,DE in np.ndindex((N,N)):\n",
        "    pi_sq[OR,DE] = X_sq[OR,DE] / Xabs_sq[DE]\n",
        "\n",
        "  # 輸入シェアの変化を計算する\n",
        "  pihat = np.zeros((N,N))\n",
        "  pihat_num = np.zeros((N,N))\n",
        "  pihat_den = np.zeros((N))\n",
        "  for OR,DE in np.ndindex((N,N)):\n",
        "    pihat_num[OR,DE] = (what[OR] * dhat[OR,DE] )**(-theta)\n",
        "    pihat_den[DE] += pi_sq[OR,DE] * pihat_num[OR,DE]\n",
        "  for OR,DE in np.ndindex((N,N)):\n",
        "    pihat[OR,DE] = pihat_num[OR,DE] / pihat_den[DE]\n",
        "\n",
        "  # 価格指数の変化を計算する\n",
        "  Phat = pihat_den ** (-1/theta)\n",
        "\n",
        "  # 新しい貿易額を計算する\n",
        "  X1 = np.zeros((N,N))\n",
        "  for OR,DE in np.ndindex((N,N)):\n",
        "    X1[OR,DE] = pi_sq[OR,DE] * pihat[OR,DE] * Xabs1[DE]\n",
        "\n",
        "  # 新しい均衡での労働市場均衡を計算する\n",
        "  wL_D = np.zeros((N))\n",
        "  wL_S = w_sq * what * L\n",
        "\n",
        "  for OR,DE in np.ndindex((N,N)):\n",
        "    wL_D[OR] += X1[OR,DE]\n",
        "\n",
        "  Z = (wL_D - wL_S) / what\n",
        "  what_new = what * (1 + psi * (Z / Xabs1) )\n",
        "  wgdp = np.sum(Xabs1)\n",
        "  what_new = what_new / wgdp\n",
        "\n",
        "  return what_new,Z,Phat,X1"
      ],
      "metadata": {
        "id": "VJ-ONXPBF3q4"
      },
      "execution_count": null,
      "outputs": []
    },
    {
      "cell_type": "markdown",
      "source": [
        "ここでちゃんと結果が前の関数なしで書いたiterationと一致するかを確認する。"
      ],
      "metadata": {
        "id": "ln8v6OPcBF65"
      }
    },
    {
      "cell_type": "code",
      "source": [
        "what_newfunc,_,_,_ = updatewagehat(what,theta=theta,N=N,X=X_sq,psi=psi)\n",
        "print(what_newfunc)\n",
        "print(what_new)"
      ],
      "metadata": {
        "colab": {
          "base_uri": "https://localhost:8080/"
        },
        "id": "8nUgoMmZJVs_",
        "outputId": "107d9357-fccd-449c-cf82-51f74b95bd81"
      },
      "execution_count": null,
      "outputs": [
        {
          "output_type": "stream",
          "name": "stdout",
          "text": [
            "[1.00870938 0.99693072 0.99693072]\n",
            "[1.00398194 0.99859675 0.99859675]\n"
          ]
        }
      ]
    },
    {
      "cell_type": "markdown",
      "source": [
        "最後にwhile-loopを用いて$\\boldsymbol{\\hat{w}}$が均衡条件を満たすまで更新していく"
      ],
      "metadata": {
        "id": "2mZnhB2fJpv8"
      }
    },
    {
      "cell_type": "code",
      "source": [
        "tol = 0.0001\n",
        "iter = 1\n",
        "\n",
        "Z = np.ones((N))\n",
        "what = np.ones((N))\n",
        "while max(np.abs(Z)) > tol and iter < 100:\n",
        "  iter += 1\n",
        "  what_old = np.copy(what)\n",
        "  what,Z,_,_ = updatewagehat(what,theta=theta,N=N,X=X_sq,psi=0.1)\n",
        "  if iter % 10 == 0:\n",
        "    print(iter)\n",
        "    print(Z)\n",
        "    print(what)\n",
        "\n",
        "print(\"Done?\")\n",
        "\n",
        "what,Z,Phat,X1 = updatewagehat(what,theta=4,N=3,X=X_sq,psi=0.1)\n",
        "print(Z)\n",
        "print(what)\n"
      ],
      "metadata": {
        "colab": {
          "base_uri": "https://localhost:8080/"
        },
        "id": "NT9LvlmuKAnS",
        "outputId": "81ccd22a-80aa-494f-e27d-9ee80a3fc3b9"
      },
      "execution_count": null,
      "outputs": [
        {
          "output_type": "stream",
          "name": "stdout",
          "text": [
            "10\n",
            "[ 8.34014292e-05 -4.22723491e-05 -4.22723491e-05]\n",
            "[1.00868191 0.99694031 0.99694031]\n",
            "Done?\n",
            "[ 4.58753609e-05 -2.32904601e-05 -2.32904601e-05]\n",
            "[1.00869963 0.99693413 0.99693413]\n"
          ]
        }
      ]
    },
    {
      "cell_type": "markdown",
      "source": [
        "さてこれが均衡を計算しなおしたと一致するか確認してみる\n",
        "$$ \\hat{U}_i = \\hat{w}_i / \\hat{P}_i $$"
      ],
      "metadata": {
        "id": "_jHa4eKCLBve"
      }
    },
    {
      "cell_type": "code",
      "source": [
        "Uhat = what / Phat\n",
        "Uhat_rs = U_cf/U_sq\n",
        "what_rs = w_cf/w_sq\n",
        "\n",
        "print(Uhat)\n",
        "print(Uhat_rs)\n",
        "print(what)\n",
        "print(what_rs)"
      ],
      "metadata": {
        "colab": {
          "base_uri": "https://localhost:8080/"
        },
        "id": "gXtSt_dvLim9",
        "outputId": "9e00d6fe-9480-4e23-ab21-255da5437b9b"
      },
      "execution_count": null,
      "outputs": [
        {
          "output_type": "stream",
          "name": "stdout",
          "text": [
            "[1.10945031 1.08091286 1.08091286]\n",
            "[1.10938209 1.08093633 1.08093633]\n",
            "[1.00869963 0.99693413 0.99693413]\n",
            "[1.00861942 0.99696227 0.99696227]\n"
          ]
        }
      ]
    }
  ]
}